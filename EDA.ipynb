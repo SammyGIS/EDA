{
 "cells": [
  {
   "cell_type": "code",
   "execution_count": 114,
   "metadata": {
    "id": "Ly8Tll9prwqk"
   },
   "outputs": [],
   "source": [
    " \n",
    "\"\"\"\n",
    "> Author:\n",
    "> Date Modified: 15th,December,2020\n",
    " \n",
    "\"\"\"\n",
    " \n",
    "#importing the libraries\n",
    " \n",
    "import pandas as pd\n",
    "import numpy as np\n",
    "import matplotlib.pyplot as plt\n",
    "from pandas import DataFrame as df\n",
    "import json"
   ]
  },
  {
   "cell_type": "code",
   "execution_count": 115,
   "metadata": {
    "id": "XImH1CWlCnZl"
   },
   "outputs": [],
   "source": [
    "#Loading the json file\n",
    "path = 'weatherstation.json'\n",
    "with open(path,'r') as data:\n",
    "  data = pd.read_json(path)"
   ]
  },
  {
   "cell_type": "code",
   "execution_count": 116,
   "metadata": {
    "colab": {
     "base_uri": "https://localhost:8080/",
     "height": 407
    },
    "id": "4wIqHZwds0Fu",
    "outputId": "6909faeb-e4dc-4978-fdcc-cd3f3e19a909"
   },
   "outputs": [
    {
     "data": {
      "text/html": [
       "<div>\n",
       "<style scoped>\n",
       "    .dataframe tbody tr th:only-of-type {\n",
       "        vertical-align: middle;\n",
       "    }\n",
       "\n",
       "    .dataframe tbody tr th {\n",
       "        vertical-align: top;\n",
       "    }\n",
       "\n",
       "    .dataframe thead th {\n",
       "        text-align: right;\n",
       "    }\n",
       "</style>\n",
       "<table border=\"1\" class=\"dataframe\">\n",
       "  <thead>\n",
       "    <tr style=\"text-align: right;\">\n",
       "      <th></th>\n",
       "      <th>timestamp</th>\n",
       "      <th>precipitation</th>\n",
       "      <th>humidity</th>\n",
       "      <th>radiation</th>\n",
       "      <th>sunshine</th>\n",
       "      <th>pressure</th>\n",
       "      <th>temperature</th>\n",
       "    </tr>\n",
       "  </thead>\n",
       "  <tbody>\n",
       "    <tr>\n",
       "      <td>0</td>\n",
       "      <td>2018-09-01 00:00:00</td>\n",
       "      <td>0.0</td>\n",
       "      <td>95.6</td>\n",
       "      <td>0.0</td>\n",
       "      <td>599.2</td>\n",
       "      <td>1016.3</td>\n",
       "      <td>16.1</td>\n",
       "    </tr>\n",
       "    <tr>\n",
       "      <td>1</td>\n",
       "      <td>2018-09-01 00:05:00</td>\n",
       "      <td>0.1</td>\n",
       "      <td>NaN</td>\n",
       "      <td>NaN</td>\n",
       "      <td>NaN</td>\n",
       "      <td>NaN</td>\n",
       "      <td>NaN</td>\n",
       "    </tr>\n",
       "    <tr>\n",
       "      <td>2</td>\n",
       "      <td>2018-09-01 00:10:00</td>\n",
       "      <td>0.0</td>\n",
       "      <td>95.5</td>\n",
       "      <td>0.0</td>\n",
       "      <td>600.0</td>\n",
       "      <td>1016.4</td>\n",
       "      <td>16.1</td>\n",
       "    </tr>\n",
       "    <tr>\n",
       "      <td>3</td>\n",
       "      <td>2018-09-01 00:15:00</td>\n",
       "      <td>0.0</td>\n",
       "      <td>NaN</td>\n",
       "      <td>NaN</td>\n",
       "      <td>NaN</td>\n",
       "      <td>NaN</td>\n",
       "      <td>NaN</td>\n",
       "    </tr>\n",
       "    <tr>\n",
       "      <td>4</td>\n",
       "      <td>2018-09-01 00:20:00</td>\n",
       "      <td>0.0</td>\n",
       "      <td>95.2</td>\n",
       "      <td>0.0</td>\n",
       "      <td>598.9</td>\n",
       "      <td>1016.5</td>\n",
       "      <td>16.1</td>\n",
       "    </tr>\n",
       "    <tr>\n",
       "      <td>...</td>\n",
       "      <td>...</td>\n",
       "      <td>...</td>\n",
       "      <td>...</td>\n",
       "      <td>...</td>\n",
       "      <td>...</td>\n",
       "      <td>...</td>\n",
       "      <td>...</td>\n",
       "    </tr>\n",
       "    <tr>\n",
       "      <td>26170</td>\n",
       "      <td>2018-11-30 22:40:00</td>\n",
       "      <td>0.0</td>\n",
       "      <td>92.8</td>\n",
       "      <td>0.0</td>\n",
       "      <td>0.0</td>\n",
       "      <td>1020.8</td>\n",
       "      <td>-0.7</td>\n",
       "    </tr>\n",
       "    <tr>\n",
       "      <td>26171</td>\n",
       "      <td>2018-11-30 22:45:00</td>\n",
       "      <td>0.0</td>\n",
       "      <td>NaN</td>\n",
       "      <td>NaN</td>\n",
       "      <td>NaN</td>\n",
       "      <td>NaN</td>\n",
       "      <td>NaN</td>\n",
       "    </tr>\n",
       "    <tr>\n",
       "      <td>26172</td>\n",
       "      <td>2018-11-30 22:50:00</td>\n",
       "      <td>0.0</td>\n",
       "      <td>93.0</td>\n",
       "      <td>0.0</td>\n",
       "      <td>0.0</td>\n",
       "      <td>1020.9</td>\n",
       "      <td>-0.7</td>\n",
       "    </tr>\n",
       "    <tr>\n",
       "      <td>26173</td>\n",
       "      <td>2018-11-30 22:55:00</td>\n",
       "      <td>0.0</td>\n",
       "      <td>NaN</td>\n",
       "      <td>NaN</td>\n",
       "      <td>NaN</td>\n",
       "      <td>NaN</td>\n",
       "      <td>NaN</td>\n",
       "    </tr>\n",
       "    <tr>\n",
       "      <td>26174</td>\n",
       "      <td>2018-11-30 23:00:00</td>\n",
       "      <td>0.0</td>\n",
       "      <td>92.4</td>\n",
       "      <td>0.0</td>\n",
       "      <td>0.0</td>\n",
       "      <td>1021.0</td>\n",
       "      <td>-0.7</td>\n",
       "    </tr>\n",
       "  </tbody>\n",
       "</table>\n",
       "<p>26175 rows × 7 columns</p>\n",
       "</div>"
      ],
      "text/plain": [
       "                timestamp  precipitation  humidity  radiation  sunshine  \\\n",
       "0     2018-09-01 00:00:00            0.0      95.6        0.0     599.2   \n",
       "1     2018-09-01 00:05:00            0.1       NaN        NaN       NaN   \n",
       "2     2018-09-01 00:10:00            0.0      95.5        0.0     600.0   \n",
       "3     2018-09-01 00:15:00            0.0       NaN        NaN       NaN   \n",
       "4     2018-09-01 00:20:00            0.0      95.2        0.0     598.9   \n",
       "...                   ...            ...       ...        ...       ...   \n",
       "26170 2018-11-30 22:40:00            0.0      92.8        0.0       0.0   \n",
       "26171 2018-11-30 22:45:00            0.0       NaN        NaN       NaN   \n",
       "26172 2018-11-30 22:50:00            0.0      93.0        0.0       0.0   \n",
       "26173 2018-11-30 22:55:00            0.0       NaN        NaN       NaN   \n",
       "26174 2018-11-30 23:00:00            0.0      92.4        0.0       0.0   \n",
       "\n",
       "       pressure  temperature  \n",
       "0        1016.3         16.1  \n",
       "1           NaN          NaN  \n",
       "2        1016.4         16.1  \n",
       "3           NaN          NaN  \n",
       "4        1016.5         16.1  \n",
       "...         ...          ...  \n",
       "26170    1020.8         -0.7  \n",
       "26171       NaN          NaN  \n",
       "26172    1020.9         -0.7  \n",
       "26173       NaN          NaN  \n",
       "26174    1021.0         -0.7  \n",
       "\n",
       "[26175 rows x 7 columns]"
      ]
     },
     "execution_count": 116,
     "metadata": {},
     "output_type": "execute_result"
    }
   ],
   "source": [
    "data"
   ]
  },
  {
   "cell_type": "code",
   "execution_count": 117,
   "metadata": {
    "colab": {
     "base_uri": "https://localhost:8080/"
    },
    "id": "nzZuHIVCCz7i",
    "outputId": "d1763c34-bc97-42d0-9ec9-f6813227d2a3"
   },
   "outputs": [
    {
     "name": "stdout",
     "output_type": "stream",
     "text": [
      "<class 'pandas.core.frame.DataFrame'>\n",
      "RangeIndex: 26175 entries, 0 to 26174\n",
      "Data columns (total 7 columns):\n",
      "timestamp        26175 non-null datetime64[ns]\n",
      "precipitation    26162 non-null float64\n",
      "humidity         13085 non-null float64\n",
      "radiation        13085 non-null float64\n",
      "sunshine         13083 non-null float64\n",
      "pressure         13085 non-null float64\n",
      "temperature      13059 non-null float64\n",
      "dtypes: datetime64[ns](1), float64(6)\n",
      "memory usage: 1.4 MB\n"
     ]
    }
   ],
   "source": [
    "data.info()"
   ]
  },
  {
   "cell_type": "code",
   "execution_count": 118,
   "metadata": {},
   "outputs": [
    {
     "data": {
      "text/plain": [
       "timestamp            0\n",
       "precipitation       13\n",
       "humidity         13090\n",
       "radiation        13090\n",
       "sunshine         13092\n",
       "pressure         13090\n",
       "temperature      13116\n",
       "dtype: int64"
      ]
     },
     "execution_count": 118,
     "metadata": {},
     "output_type": "execute_result"
    }
   ],
   "source": [
    "#Counting the numbers of missing values\n",
    "data.isnull().sum()"
   ]
  },
  {
   "cell_type": "code",
   "execution_count": 119,
   "metadata": {
    "id": "MsUxBMffC0Ni"
   },
   "outputs": [],
   "source": [
    "#filling missing value with ffill beause it is a a timestamp data\n",
    "weather_stat= data.fillna(method='ffill')"
   ]
  },
  {
   "cell_type": "code",
   "execution_count": 120,
   "metadata": {},
   "outputs": [
    {
     "data": {
      "text/plain": [
       "timestamp        0\n",
       "precipitation    0\n",
       "humidity         0\n",
       "radiation        0\n",
       "sunshine         0\n",
       "pressure         0\n",
       "temperature      0\n",
       "dtype: int64"
      ]
     },
     "execution_count": 120,
     "metadata": {},
     "output_type": "execute_result"
    }
   ],
   "source": [
    "weather_stat.isnull().sum()"
   ]
  },
  {
   "cell_type": "code",
   "execution_count": 121,
   "metadata": {
    "colab": {
     "base_uri": "https://localhost:8080/",
     "height": 288
    },
    "id": "Cx6jAgv7Fyj4",
    "outputId": "e7fe8150-5cd2-4f3d-a21f-90058eebfb89"
   },
   "outputs": [
    {
     "data": {
      "text/html": [
       "<div>\n",
       "<style scoped>\n",
       "    .dataframe tbody tr th:only-of-type {\n",
       "        vertical-align: middle;\n",
       "    }\n",
       "\n",
       "    .dataframe tbody tr th {\n",
       "        vertical-align: top;\n",
       "    }\n",
       "\n",
       "    .dataframe thead th {\n",
       "        text-align: right;\n",
       "    }\n",
       "</style>\n",
       "<table border=\"1\" class=\"dataframe\">\n",
       "  <thead>\n",
       "    <tr style=\"text-align: right;\">\n",
       "      <th></th>\n",
       "      <th>precipitation</th>\n",
       "      <th>humidity</th>\n",
       "      <th>radiation</th>\n",
       "      <th>sunshine</th>\n",
       "      <th>pressure</th>\n",
       "      <th>temperature</th>\n",
       "    </tr>\n",
       "  </thead>\n",
       "  <tbody>\n",
       "    <tr>\n",
       "      <td>count</td>\n",
       "      <td>26175.000000</td>\n",
       "      <td>26175.000000</td>\n",
       "      <td>26175.000000</td>\n",
       "      <td>26175.000000</td>\n",
       "      <td>26175.000000</td>\n",
       "      <td>26175.000000</td>\n",
       "    </tr>\n",
       "    <tr>\n",
       "      <td>mean</td>\n",
       "      <td>0.008218</td>\n",
       "      <td>73.785631</td>\n",
       "      <td>118.835855</td>\n",
       "      <td>187.386850</td>\n",
       "      <td>1019.188218</td>\n",
       "      <td>14.063278</td>\n",
       "    </tr>\n",
       "    <tr>\n",
       "      <td>std</td>\n",
       "      <td>0.057780</td>\n",
       "      <td>20.230860</td>\n",
       "      <td>201.185976</td>\n",
       "      <td>273.885335</td>\n",
       "      <td>6.714622</td>\n",
       "      <td>6.606198</td>\n",
       "    </tr>\n",
       "    <tr>\n",
       "      <td>min</td>\n",
       "      <td>0.000000</td>\n",
       "      <td>8.900000</td>\n",
       "      <td>0.000000</td>\n",
       "      <td>0.000000</td>\n",
       "      <td>989.500000</td>\n",
       "      <td>-1.800000</td>\n",
       "    </tr>\n",
       "    <tr>\n",
       "      <td>25%</td>\n",
       "      <td>0.000000</td>\n",
       "      <td>57.500000</td>\n",
       "      <td>0.000000</td>\n",
       "      <td>0.000000</td>\n",
       "      <td>1016.000000</td>\n",
       "      <td>9.800000</td>\n",
       "    </tr>\n",
       "    <tr>\n",
       "      <td>50%</td>\n",
       "      <td>0.000000</td>\n",
       "      <td>78.900000</td>\n",
       "      <td>0.000000</td>\n",
       "      <td>0.000000</td>\n",
       "      <td>1019.700000</td>\n",
       "      <td>13.400000</td>\n",
       "    </tr>\n",
       "    <tr>\n",
       "      <td>75%</td>\n",
       "      <td>0.000000</td>\n",
       "      <td>91.300000</td>\n",
       "      <td>161.550000</td>\n",
       "      <td>598.900000</td>\n",
       "      <td>1023.300000</td>\n",
       "      <td>18.900000</td>\n",
       "    </tr>\n",
       "    <tr>\n",
       "      <td>max</td>\n",
       "      <td>2.700000</td>\n",
       "      <td>100.100000</td>\n",
       "      <td>928.000000</td>\n",
       "      <td>600.000000</td>\n",
       "      <td>1039.800000</td>\n",
       "      <td>30.400000</td>\n",
       "    </tr>\n",
       "  </tbody>\n",
       "</table>\n",
       "</div>"
      ],
      "text/plain": [
       "       precipitation      humidity     radiation      sunshine      pressure  \\\n",
       "count   26175.000000  26175.000000  26175.000000  26175.000000  26175.000000   \n",
       "mean        0.008218     73.785631    118.835855    187.386850   1019.188218   \n",
       "std         0.057780     20.230860    201.185976    273.885335      6.714622   \n",
       "min         0.000000      8.900000      0.000000      0.000000    989.500000   \n",
       "25%         0.000000     57.500000      0.000000      0.000000   1016.000000   \n",
       "50%         0.000000     78.900000      0.000000      0.000000   1019.700000   \n",
       "75%         0.000000     91.300000    161.550000    598.900000   1023.300000   \n",
       "max         2.700000    100.100000    928.000000    600.000000   1039.800000   \n",
       "\n",
       "        temperature  \n",
       "count  26175.000000  \n",
       "mean      14.063278  \n",
       "std        6.606198  \n",
       "min       -1.800000  \n",
       "25%        9.800000  \n",
       "50%       13.400000  \n",
       "75%       18.900000  \n",
       "max       30.400000  "
      ]
     },
     "execution_count": 121,
     "metadata": {},
     "output_type": "execute_result"
    }
   ],
   "source": [
    "weather_stat.describe()"
   ]
  },
  {
   "cell_type": "code",
   "execution_count": 122,
   "metadata": {},
   "outputs": [
    {
     "data": {
      "text/plain": [
       "(26175, 7)"
      ]
     },
     "execution_count": 122,
     "metadata": {},
     "output_type": "execute_result"
    }
   ],
   "source": [
    "weather_stat.shape"
   ]
  },
  {
   "cell_type": "code",
   "execution_count": 123,
   "metadata": {
    "id": "AxbDh2EliOd0"
   },
   "outputs": [],
   "source": [
    "#checking for oulier in our data using the Z score\n",
    "data_zscore = weather_stat.drop(['timestamp'],axis = 1)"
   ]
  },
  {
   "cell_type": "code",
   "execution_count": 124,
   "metadata": {},
   "outputs": [],
   "source": [
    "timestamp = weather_stat['timestamp']"
   ]
  },
  {
   "cell_type": "code",
   "execution_count": 125,
   "metadata": {
    "colab": {
     "base_uri": "https://localhost:8080/"
    },
    "id": "s2ji84ta2aTO",
    "outputId": "9838c1aa-fb1a-4c6b-cb3f-0c130c6fe00d"
   },
   "outputs": [
    {
     "name": "stdout",
     "output_type": "stream",
     "text": [
      "[[0.14222803 1.07829256 0.59068792 1.50362566 0.43014676 0.30831061]\n",
      " [1.58851051 1.07829256 0.59068792 1.50362566 0.43014676 0.30831061]\n",
      " [0.14222803 1.07334952 0.59068792 1.50654664 0.4152536  0.30831061]\n",
      " ...\n",
      " [0.14222803 0.94977357 0.59068792 0.684193   0.25493839 2.23480429]\n",
      " [0.14222803 0.94977357 0.59068792 0.684193   0.25493839 2.23480429]\n",
      " [0.14222803 0.92011534 0.59068792 0.684193   0.26983154 2.23480429]]\n"
     ]
    }
   ],
   "source": [
    "from scipy import stats\n",
    "Z =np.abs(stats.zscore(data_zscore))\n",
    "print(Z)"
   ]
  },
  {
   "cell_type": "code",
   "execution_count": 126,
   "metadata": {
    "colab": {
     "base_uri": "https://localhost:8080/"
    },
    "id": "jZQd1WEqih6B",
    "outputId": "7dacc1a2-a3f1-484d-beec-b57731010f70"
   },
   "outputs": [
    {
     "data": {
      "text/plain": [
       "(25194, 7)"
      ]
     },
     "execution_count": 126,
     "metadata": {},
     "output_type": "execute_result"
    }
   ],
   "source": [
    "data_outlier = weather_stat[(Z<3).all(axis=1)]\n",
    "data_outlier.shape"
   ]
  },
  {
   "cell_type": "code",
   "execution_count": 127,
   "metadata": {
    "colab": {
     "base_uri": "https://localhost:8080/"
    },
    "id": "gqKG7dLTjxCm",
    "outputId": "ff8f4bc2-fe81-4102-d9a6-82067fe14633"
   },
   "outputs": [
    {
     "name": "stdout",
     "output_type": "stream",
     "text": [
      "precipitation      0.00\n",
      "humidity          33.80\n",
      "radiation        161.55\n",
      "sunshine         598.90\n",
      "pressure           7.30\n",
      "temperature        9.10\n",
      "dtype: float64\n"
     ]
    }
   ],
   "source": [
    "Q1= weather_stat.quantile(0.25)\n",
    "Q3 = weather_stat.quantile(0.75)\n",
    "IQR = Q3-Q1\n",
    "print(IQR)"
   ]
  },
  {
   "cell_type": "code",
   "execution_count": 128,
   "metadata": {},
   "outputs": [
    {
     "name": "stdout",
     "output_type": "stream",
     "text": [
      "\n",
      "IQR-shape:        precipitation  humidity  radiation  sunshine  pressure  temperature\n",
      "0                0.0      95.6        0.0     599.2    1016.3         16.1\n",
      "2                0.0      95.5        0.0     600.0    1016.4         16.1\n",
      "3                0.0      95.5        0.0     600.0    1016.4         16.1\n",
      "4                0.0      95.2        0.0     598.9    1016.5         16.1\n",
      "5                0.0      95.2        0.0     598.9    1016.5         16.1\n",
      "...              ...       ...        ...       ...       ...          ...\n",
      "26170            0.0      92.8        0.0       0.0    1020.8         -0.7\n",
      "26171            0.0      92.8        0.0       0.0    1020.8         -0.7\n",
      "26172            0.0      93.0        0.0       0.0    1020.9         -0.7\n",
      "26173            0.0      93.0        0.0       0.0    1020.9         -0.7\n",
      "26174            0.0      92.4        0.0       0.0    1021.0         -0.7\n",
      "\n",
      "[20903 rows x 6 columns]\n"
     ]
    }
   ],
   "source": [
    "weather_stat_outlier = data_zscore[~(( data_zscore < (Q1-1.5*IQR)) |\n",
    "    ( data_zscore > (Q3 + 1.5 * IQR))).any (axis=1)]\n",
    "\n",
    "print(f'\\nIQR-shape: {weather_stat_outlier}')"
   ]
  },
  {
   "cell_type": "code",
   "execution_count": 129,
   "metadata": {},
   "outputs": [
    {
     "data": {
      "text/html": [
       "<div>\n",
       "<style scoped>\n",
       "    .dataframe tbody tr th:only-of-type {\n",
       "        vertical-align: middle;\n",
       "    }\n",
       "\n",
       "    .dataframe tbody tr th {\n",
       "        vertical-align: top;\n",
       "    }\n",
       "\n",
       "    .dataframe thead th {\n",
       "        text-align: right;\n",
       "    }\n",
       "</style>\n",
       "<table border=\"1\" class=\"dataframe\">\n",
       "  <thead>\n",
       "    <tr style=\"text-align: right;\">\n",
       "      <th></th>\n",
       "      <th>timestamp</th>\n",
       "      <th>precipitation</th>\n",
       "      <th>humidity</th>\n",
       "      <th>radiation</th>\n",
       "      <th>sunshine</th>\n",
       "      <th>pressure</th>\n",
       "      <th>temperature</th>\n",
       "    </tr>\n",
       "  </thead>\n",
       "  <tbody>\n",
       "    <tr>\n",
       "      <td>0</td>\n",
       "      <td>2018-09-01 00:00:00</td>\n",
       "      <td>0.0</td>\n",
       "      <td>95.6</td>\n",
       "      <td>0.0</td>\n",
       "      <td>599.2</td>\n",
       "      <td>1016.3</td>\n",
       "      <td>16.1</td>\n",
       "    </tr>\n",
       "    <tr>\n",
       "      <td>1</td>\n",
       "      <td>2018-09-01 00:10:00</td>\n",
       "      <td>0.0</td>\n",
       "      <td>95.5</td>\n",
       "      <td>0.0</td>\n",
       "      <td>600.0</td>\n",
       "      <td>1016.4</td>\n",
       "      <td>16.1</td>\n",
       "    </tr>\n",
       "    <tr>\n",
       "      <td>2</td>\n",
       "      <td>2018-09-01 00:10:00</td>\n",
       "      <td>0.0</td>\n",
       "      <td>95.5</td>\n",
       "      <td>0.0</td>\n",
       "      <td>600.0</td>\n",
       "      <td>1016.4</td>\n",
       "      <td>16.1</td>\n",
       "    </tr>\n",
       "    <tr>\n",
       "      <td>3</td>\n",
       "      <td>2018-09-01 00:15:00</td>\n",
       "      <td>0.0</td>\n",
       "      <td>95.5</td>\n",
       "      <td>0.0</td>\n",
       "      <td>600.0</td>\n",
       "      <td>1016.4</td>\n",
       "      <td>16.1</td>\n",
       "    </tr>\n",
       "    <tr>\n",
       "      <td>4</td>\n",
       "      <td>2018-09-01 00:15:00</td>\n",
       "      <td>0.0</td>\n",
       "      <td>95.5</td>\n",
       "      <td>0.0</td>\n",
       "      <td>600.0</td>\n",
       "      <td>1016.4</td>\n",
       "      <td>16.1</td>\n",
       "    </tr>\n",
       "    <tr>\n",
       "      <td>...</td>\n",
       "      <td>...</td>\n",
       "      <td>...</td>\n",
       "      <td>...</td>\n",
       "      <td>...</td>\n",
       "      <td>...</td>\n",
       "      <td>...</td>\n",
       "      <td>...</td>\n",
       "    </tr>\n",
       "    <tr>\n",
       "      <td>42746</td>\n",
       "      <td>2018-11-30 22:50:00</td>\n",
       "      <td>0.0</td>\n",
       "      <td>93.0</td>\n",
       "      <td>0.0</td>\n",
       "      <td>0.0</td>\n",
       "      <td>1020.9</td>\n",
       "      <td>-0.7</td>\n",
       "    </tr>\n",
       "    <tr>\n",
       "      <td>42747</td>\n",
       "      <td>2018-11-30 22:50:00</td>\n",
       "      <td>0.0</td>\n",
       "      <td>93.0</td>\n",
       "      <td>0.0</td>\n",
       "      <td>0.0</td>\n",
       "      <td>1020.9</td>\n",
       "      <td>-0.7</td>\n",
       "    </tr>\n",
       "    <tr>\n",
       "      <td>42748</td>\n",
       "      <td>2018-11-30 22:55:00</td>\n",
       "      <td>0.0</td>\n",
       "      <td>93.0</td>\n",
       "      <td>0.0</td>\n",
       "      <td>0.0</td>\n",
       "      <td>1020.9</td>\n",
       "      <td>-0.7</td>\n",
       "    </tr>\n",
       "    <tr>\n",
       "      <td>42749</td>\n",
       "      <td>2018-11-30 22:55:00</td>\n",
       "      <td>0.0</td>\n",
       "      <td>93.0</td>\n",
       "      <td>0.0</td>\n",
       "      <td>0.0</td>\n",
       "      <td>1020.9</td>\n",
       "      <td>-0.7</td>\n",
       "    </tr>\n",
       "    <tr>\n",
       "      <td>42750</td>\n",
       "      <td>2018-11-30 23:00:00</td>\n",
       "      <td>0.0</td>\n",
       "      <td>92.4</td>\n",
       "      <td>0.0</td>\n",
       "      <td>0.0</td>\n",
       "      <td>1021.0</td>\n",
       "      <td>-0.7</td>\n",
       "    </tr>\n",
       "  </tbody>\n",
       "</table>\n",
       "<p>42751 rows × 7 columns</p>\n",
       "</div>"
      ],
      "text/plain": [
       "                timestamp  precipitation  humidity  radiation  sunshine  \\\n",
       "0     2018-09-01 00:00:00            0.0      95.6        0.0     599.2   \n",
       "1     2018-09-01 00:10:00            0.0      95.5        0.0     600.0   \n",
       "2     2018-09-01 00:10:00            0.0      95.5        0.0     600.0   \n",
       "3     2018-09-01 00:15:00            0.0      95.5        0.0     600.0   \n",
       "4     2018-09-01 00:15:00            0.0      95.5        0.0     600.0   \n",
       "...                   ...            ...       ...        ...       ...   \n",
       "42746 2018-11-30 22:50:00            0.0      93.0        0.0       0.0   \n",
       "42747 2018-11-30 22:50:00            0.0      93.0        0.0       0.0   \n",
       "42748 2018-11-30 22:55:00            0.0      93.0        0.0       0.0   \n",
       "42749 2018-11-30 22:55:00            0.0      93.0        0.0       0.0   \n",
       "42750 2018-11-30 23:00:00            0.0      92.4        0.0       0.0   \n",
       "\n",
       "       pressure  temperature  \n",
       "0        1016.3         16.1  \n",
       "1        1016.4         16.1  \n",
       "2        1016.4         16.1  \n",
       "3        1016.4         16.1  \n",
       "4        1016.4         16.1  \n",
       "...         ...          ...  \n",
       "42746    1020.9         -0.7  \n",
       "42747    1020.9         -0.7  \n",
       "42748    1020.9         -0.7  \n",
       "42749    1020.9         -0.7  \n",
       "42750    1021.0         -0.7  \n",
       "\n",
       "[42751 rows x 7 columns]"
      ]
     },
     "execution_count": 129,
     "metadata": {},
     "output_type": "execute_result"
    }
   ],
   "source": [
    "weather = pd.merge(weather_stat,weather_stat_outlier)\n",
    "weather"
   ]
  },
  {
   "cell_type": "code",
   "execution_count": 130,
   "metadata": {
    "id": "ICpOjsR8-uj8"
   },
   "outputs": [],
   "source": [
    "data_nov = pd.read_csv('wind_data_nov.csv')"
   ]
  },
  {
   "cell_type": "code",
   "execution_count": 131,
   "metadata": {
    "colab": {
     "base_uri": "https://localhost:8080/",
     "height": 198
    },
    "id": "fSy3To6J_F7B",
    "outputId": "ffc5cc64-83d2-4f4c-c630-0aaed93d357a"
   },
   "outputs": [
    {
     "data": {
      "text/html": [
       "<div>\n",
       "<style scoped>\n",
       "    .dataframe tbody tr th:only-of-type {\n",
       "        vertical-align: middle;\n",
       "    }\n",
       "\n",
       "    .dataframe tbody tr th {\n",
       "        vertical-align: top;\n",
       "    }\n",
       "\n",
       "    .dataframe thead th {\n",
       "        text-align: right;\n",
       "    }\n",
       "</style>\n",
       "<table border=\"1\" class=\"dataframe\">\n",
       "  <thead>\n",
       "    <tr style=\"text-align: right;\">\n",
       "      <th></th>\n",
       "      <th>timestamp</th>\n",
       "      <th>wind_speed</th>\n",
       "      <th>wind_direction</th>\n",
       "    </tr>\n",
       "  </thead>\n",
       "  <tbody>\n",
       "    <tr>\n",
       "      <td>0</td>\n",
       "      <td>2018-11-01 00:00:00</td>\n",
       "      <td>3.058733</td>\n",
       "      <td>300.820000</td>\n",
       "    </tr>\n",
       "    <tr>\n",
       "      <td>1</td>\n",
       "      <td>2018-11-01 00:15:00</td>\n",
       "      <td>4.493533</td>\n",
       "      <td>308.893333</td>\n",
       "    </tr>\n",
       "    <tr>\n",
       "      <td>2</td>\n",
       "      <td>2018-11-01 00:30:00</td>\n",
       "      <td>4.796067</td>\n",
       "      <td>322.640000</td>\n",
       "    </tr>\n",
       "    <tr>\n",
       "      <td>3</td>\n",
       "      <td>2018-11-01 00:45:00</td>\n",
       "      <td>3.894267</td>\n",
       "      <td>306.646667</td>\n",
       "    </tr>\n",
       "    <tr>\n",
       "      <td>4</td>\n",
       "      <td>2018-11-01 01:00:00</td>\n",
       "      <td>4.916467</td>\n",
       "      <td>315.213333</td>\n",
       "    </tr>\n",
       "  </tbody>\n",
       "</table>\n",
       "</div>"
      ],
      "text/plain": [
       "             timestamp  wind_speed  wind_direction\n",
       "0  2018-11-01 00:00:00    3.058733      300.820000\n",
       "1  2018-11-01 00:15:00    4.493533      308.893333\n",
       "2  2018-11-01 00:30:00    4.796067      322.640000\n",
       "3  2018-11-01 00:45:00    3.894267      306.646667\n",
       "4  2018-11-01 01:00:00    4.916467      315.213333"
      ]
     },
     "execution_count": 131,
     "metadata": {},
     "output_type": "execute_result"
    }
   ],
   "source": [
    "data_nov.head()"
   ]
  },
  {
   "cell_type": "code",
   "execution_count": 132,
   "metadata": {},
   "outputs": [
    {
     "name": "stdout",
     "output_type": "stream",
     "text": [
      "<class 'pandas.core.frame.DataFrame'>\n",
      "RangeIndex: 2880 entries, 0 to 2879\n",
      "Data columns (total 3 columns):\n",
      "timestamp         2880 non-null object\n",
      "wind_speed        2880 non-null float64\n",
      "wind_direction    2880 non-null float64\n",
      "dtypes: float64(2), object(1)\n",
      "memory usage: 67.6+ KB\n"
     ]
    }
   ],
   "source": [
    "data_nov.info()"
   ]
  },
  {
   "cell_type": "code",
   "execution_count": 133,
   "metadata": {
    "colab": {
     "base_uri": "https://localhost:8080/"
    },
    "id": "ukWT3OX4_Rfz",
    "outputId": "c995b2c6-ca0a-4175-cb5b-7aeb79412175"
   },
   "outputs": [
    {
     "data": {
      "text/plain": [
       "timestamp         0\n",
       "wind_speed        0\n",
       "wind_direction    0\n",
       "dtype: int64"
      ]
     },
     "execution_count": 133,
     "metadata": {},
     "output_type": "execute_result"
    }
   ],
   "source": [
    "data_nov.isnull().sum()"
   ]
  },
  {
   "cell_type": "code",
   "execution_count": 134,
   "metadata": {
    "id": "plFqr8b1_PrK"
   },
   "outputs": [],
   "source": [
    "data_oct =pd.read_csv('wind_data_oct.csv')"
   ]
  },
  {
   "cell_type": "code",
   "execution_count": 135,
   "metadata": {
    "colab": {
     "base_uri": "https://localhost:8080/",
     "height": 198
    },
    "id": "GCcEnB9v_vyM",
    "outputId": "15e968cc-a2df-42fc-f2b5-ed438f576a6c"
   },
   "outputs": [
    {
     "data": {
      "text/html": [
       "<div>\n",
       "<style scoped>\n",
       "    .dataframe tbody tr th:only-of-type {\n",
       "        vertical-align: middle;\n",
       "    }\n",
       "\n",
       "    .dataframe tbody tr th {\n",
       "        vertical-align: top;\n",
       "    }\n",
       "\n",
       "    .dataframe thead th {\n",
       "        text-align: right;\n",
       "    }\n",
       "</style>\n",
       "<table border=\"1\" class=\"dataframe\">\n",
       "  <thead>\n",
       "    <tr style=\"text-align: right;\">\n",
       "      <th></th>\n",
       "      <th>timestamp</th>\n",
       "      <th>wind_speed</th>\n",
       "      <th>wind_direction</th>\n",
       "    </tr>\n",
       "  </thead>\n",
       "  <tbody>\n",
       "    <tr>\n",
       "      <td>0</td>\n",
       "      <td>2018-10-01 00:00:00</td>\n",
       "      <td>3.277333</td>\n",
       "      <td>307.446667</td>\n",
       "    </tr>\n",
       "    <tr>\n",
       "      <td>1</td>\n",
       "      <td>2018-10-01 00:15:00</td>\n",
       "      <td>3.657733</td>\n",
       "      <td>292.816667</td>\n",
       "    </tr>\n",
       "    <tr>\n",
       "      <td>2</td>\n",
       "      <td>2018-10-01 00:30:00</td>\n",
       "      <td>3.689933</td>\n",
       "      <td>307.526667</td>\n",
       "    </tr>\n",
       "    <tr>\n",
       "      <td>3</td>\n",
       "      <td>2018-10-01 00:45:00</td>\n",
       "      <td>3.357267</td>\n",
       "      <td>310.600000</td>\n",
       "    </tr>\n",
       "    <tr>\n",
       "      <td>4</td>\n",
       "      <td>2018-10-01 01:00:00</td>\n",
       "      <td>3.362133</td>\n",
       "      <td>314.113333</td>\n",
       "    </tr>\n",
       "  </tbody>\n",
       "</table>\n",
       "</div>"
      ],
      "text/plain": [
       "             timestamp  wind_speed  wind_direction\n",
       "0  2018-10-01 00:00:00    3.277333      307.446667\n",
       "1  2018-10-01 00:15:00    3.657733      292.816667\n",
       "2  2018-10-01 00:30:00    3.689933      307.526667\n",
       "3  2018-10-01 00:45:00    3.357267      310.600000\n",
       "4  2018-10-01 01:00:00    3.362133      314.113333"
      ]
     },
     "execution_count": 135,
     "metadata": {},
     "output_type": "execute_result"
    }
   ],
   "source": [
    "data_oct.head()"
   ]
  },
  {
   "cell_type": "code",
   "execution_count": 136,
   "metadata": {},
   "outputs": [
    {
     "name": "stdout",
     "output_type": "stream",
     "text": [
      "<class 'pandas.core.frame.DataFrame'>\n",
      "RangeIndex: 2976 entries, 0 to 2975\n",
      "Data columns (total 3 columns):\n",
      "timestamp         2976 non-null object\n",
      "wind_speed        2784 non-null float64\n",
      "wind_direction    2784 non-null float64\n",
      "dtypes: float64(2), object(1)\n",
      "memory usage: 69.9+ KB\n"
     ]
    }
   ],
   "source": [
    "data_oct.info()"
   ]
  },
  {
   "cell_type": "code",
   "execution_count": 137,
   "metadata": {
    "colab": {
     "base_uri": "https://localhost:8080/",
     "height": 288
    },
    "id": "gzRrryek_38u",
    "outputId": "2e948969-d584-438d-d35e-2761e17505cb"
   },
   "outputs": [
    {
     "data": {
      "text/plain": [
       "timestamp           0\n",
       "wind_speed        192\n",
       "wind_direction    192\n",
       "dtype: int64"
      ]
     },
     "execution_count": 137,
     "metadata": {},
     "output_type": "execute_result"
    }
   ],
   "source": [
    "data_oct.isnull().sum()"
   ]
  },
  {
   "cell_type": "code",
   "execution_count": 138,
   "metadata": {},
   "outputs": [
    {
     "data": {
      "text/html": [
       "<div>\n",
       "<style scoped>\n",
       "    .dataframe tbody tr th:only-of-type {\n",
       "        vertical-align: middle;\n",
       "    }\n",
       "\n",
       "    .dataframe tbody tr th {\n",
       "        vertical-align: top;\n",
       "    }\n",
       "\n",
       "    .dataframe thead th {\n",
       "        text-align: right;\n",
       "    }\n",
       "</style>\n",
       "<table border=\"1\" class=\"dataframe\">\n",
       "  <thead>\n",
       "    <tr style=\"text-align: right;\">\n",
       "      <th></th>\n",
       "      <th>timestamp</th>\n",
       "      <th>wind_speed</th>\n",
       "      <th>wind_direction</th>\n",
       "    </tr>\n",
       "  </thead>\n",
       "  <tbody>\n",
       "    <tr>\n",
       "      <td>903</td>\n",
       "      <td>2018-10-10 09:45:00</td>\n",
       "      <td>15.777333</td>\n",
       "      <td>295.073333</td>\n",
       "    </tr>\n",
       "    <tr>\n",
       "      <td>629</td>\n",
       "      <td>2018-10-07 13:15:00</td>\n",
       "      <td>15.129333</td>\n",
       "      <td>277.153333</td>\n",
       "    </tr>\n",
       "    <tr>\n",
       "      <td>899</td>\n",
       "      <td>2018-10-10 08:45:00</td>\n",
       "      <td>14.967867</td>\n",
       "      <td>301.493333</td>\n",
       "    </tr>\n",
       "    <tr>\n",
       "      <td>1507</td>\n",
       "      <td>2018-10-16 16:45:00</td>\n",
       "      <td>14.894667</td>\n",
       "      <td>257.440000</td>\n",
       "    </tr>\n",
       "    <tr>\n",
       "      <td>904</td>\n",
       "      <td>2018-10-10 10:00:00</td>\n",
       "      <td>14.504667</td>\n",
       "      <td>311.106667</td>\n",
       "    </tr>\n",
       "    <tr>\n",
       "      <td>...</td>\n",
       "      <td>...</td>\n",
       "      <td>...</td>\n",
       "      <td>...</td>\n",
       "    </tr>\n",
       "    <tr>\n",
       "      <td>2587</td>\n",
       "      <td>2018-10-27 23:00:00</td>\n",
       "      <td>NaN</td>\n",
       "      <td>NaN</td>\n",
       "    </tr>\n",
       "    <tr>\n",
       "      <td>2588</td>\n",
       "      <td>2018-10-27 23:15:00</td>\n",
       "      <td>NaN</td>\n",
       "      <td>NaN</td>\n",
       "    </tr>\n",
       "    <tr>\n",
       "      <td>2589</td>\n",
       "      <td>2018-10-27 23:30:00</td>\n",
       "      <td>NaN</td>\n",
       "      <td>NaN</td>\n",
       "    </tr>\n",
       "    <tr>\n",
       "      <td>2590</td>\n",
       "      <td>2018-10-27 23:45:00</td>\n",
       "      <td>NaN</td>\n",
       "      <td>NaN</td>\n",
       "    </tr>\n",
       "    <tr>\n",
       "      <td>2591</td>\n",
       "      <td>2018-10-28 00:00:00</td>\n",
       "      <td>NaN</td>\n",
       "      <td>NaN</td>\n",
       "    </tr>\n",
       "  </tbody>\n",
       "</table>\n",
       "<p>2976 rows × 3 columns</p>\n",
       "</div>"
      ],
      "text/plain": [
       "                timestamp  wind_speed  wind_direction\n",
       "903   2018-10-10 09:45:00   15.777333      295.073333\n",
       "629   2018-10-07 13:15:00   15.129333      277.153333\n",
       "899   2018-10-10 08:45:00   14.967867      301.493333\n",
       "1507  2018-10-16 16:45:00   14.894667      257.440000\n",
       "904   2018-10-10 10:00:00   14.504667      311.106667\n",
       "...                   ...         ...             ...\n",
       "2587  2018-10-27 23:00:00         NaN             NaN\n",
       "2588  2018-10-27 23:15:00         NaN             NaN\n",
       "2589  2018-10-27 23:30:00         NaN             NaN\n",
       "2590  2018-10-27 23:45:00         NaN             NaN\n",
       "2591  2018-10-28 00:00:00         NaN             NaN\n",
       "\n",
       "[2976 rows x 3 columns]"
      ]
     },
     "execution_count": 138,
     "metadata": {},
     "output_type": "execute_result"
    }
   ],
   "source": [
    "data_oct.sort_values( by= 'wind_speed',ascending = False)"
   ]
  },
  {
   "cell_type": "code",
   "execution_count": 139,
   "metadata": {
    "id": "x-G_uklbACCU"
   },
   "outputs": [],
   "source": [
    "data_sep = pd.read_csv('wind_data_sep.csv')"
   ]
  },
  {
   "cell_type": "code",
   "execution_count": 140,
   "metadata": {
    "colab": {
     "base_uri": "https://localhost:8080/",
     "height": 198
    },
    "id": "sUsw3Q5GARHX",
    "outputId": "960007da-52d2-4f17-bbcc-b5487a2ce309"
   },
   "outputs": [
    {
     "data": {
      "text/html": [
       "<div>\n",
       "<style scoped>\n",
       "    .dataframe tbody tr th:only-of-type {\n",
       "        vertical-align: middle;\n",
       "    }\n",
       "\n",
       "    .dataframe tbody tr th {\n",
       "        vertical-align: top;\n",
       "    }\n",
       "\n",
       "    .dataframe thead th {\n",
       "        text-align: right;\n",
       "    }\n",
       "</style>\n",
       "<table border=\"1\" class=\"dataframe\">\n",
       "  <thead>\n",
       "    <tr style=\"text-align: right;\">\n",
       "      <th></th>\n",
       "      <th>timestamp</th>\n",
       "      <th>wind_speed</th>\n",
       "      <th>wind_direction</th>\n",
       "    </tr>\n",
       "  </thead>\n",
       "  <tbody>\n",
       "    <tr>\n",
       "      <td>0</td>\n",
       "      <td>2018-09-01 00:00:00</td>\n",
       "      <td>4.443333</td>\n",
       "      <td>68.685333</td>\n",
       "    </tr>\n",
       "    <tr>\n",
       "      <td>1</td>\n",
       "      <td>2018-09-01 00:15:00</td>\n",
       "      <td>4.122467</td>\n",
       "      <td>71.740667</td>\n",
       "    </tr>\n",
       "    <tr>\n",
       "      <td>2</td>\n",
       "      <td>2018-09-01 00:30:00</td>\n",
       "      <td>3.427533</td>\n",
       "      <td>67.434667</td>\n",
       "    </tr>\n",
       "    <tr>\n",
       "      <td>3</td>\n",
       "      <td>2018-09-01 00:45:00</td>\n",
       "      <td>3.437867</td>\n",
       "      <td>68.142667</td>\n",
       "    </tr>\n",
       "    <tr>\n",
       "      <td>4</td>\n",
       "      <td>2018-09-01 01:00:00</td>\n",
       "      <td>3.688533</td>\n",
       "      <td>69.695333</td>\n",
       "    </tr>\n",
       "  </tbody>\n",
       "</table>\n",
       "</div>"
      ],
      "text/plain": [
       "             timestamp  wind_speed  wind_direction\n",
       "0  2018-09-01 00:00:00    4.443333       68.685333\n",
       "1  2018-09-01 00:15:00    4.122467       71.740667\n",
       "2  2018-09-01 00:30:00    3.427533       67.434667\n",
       "3  2018-09-01 00:45:00    3.437867       68.142667\n",
       "4  2018-09-01 01:00:00    3.688533       69.695333"
      ]
     },
     "execution_count": 140,
     "metadata": {},
     "output_type": "execute_result"
    }
   ],
   "source": [
    "data_sep.head()"
   ]
  },
  {
   "cell_type": "code",
   "execution_count": 141,
   "metadata": {
    "colab": {
     "base_uri": "https://localhost:8080/",
     "height": 288
    },
    "id": "nXso9TvHAT3q",
    "outputId": "d580f3fb-06ef-41cd-a3bb-27f7fb7c12c2"
   },
   "outputs": [
    {
     "data": {
      "text/plain": [
       "timestamp         0\n",
       "wind_speed        0\n",
       "wind_direction    0\n",
       "dtype: int64"
      ]
     },
     "execution_count": 141,
     "metadata": {},
     "output_type": "execute_result"
    }
   ],
   "source": [
    "data_sep.isnull().sum()"
   ]
  },
  {
   "cell_type": "code",
   "execution_count": 142,
   "metadata": {
    "colab": {
     "base_uri": "https://localhost:8080/",
     "height": 407
    },
    "id": "0eLMLT_ew4uY",
    "outputId": "71e62583-4b4e-491c-f61a-a88183511c98"
   },
   "outputs": [],
   "source": [
    "#cleaning oct wind data\n",
    "data_oct = data_oct.fillna(method='ffill')"
   ]
  },
  {
   "cell_type": "code",
   "execution_count": 143,
   "metadata": {
    "id": "6mOwiqRyB1lA"
   },
   "outputs": [
    {
     "data": {
      "text/plain": [
       "timestamp         0\n",
       "wind_speed        0\n",
       "wind_direction    0\n",
       "dtype: int64"
      ]
     },
     "execution_count": 143,
     "metadata": {},
     "output_type": "execute_result"
    }
   ],
   "source": [
    "data_oct.isnull().sum()"
   ]
  },
  {
   "cell_type": "code",
   "execution_count": 144,
   "metadata": {},
   "outputs": [],
   "source": [
    "wind = data_sep.append([data_oct,data_nov])"
   ]
  },
  {
   "cell_type": "code",
   "execution_count": 145,
   "metadata": {},
   "outputs": [
    {
     "data": {
      "text/html": [
       "<div>\n",
       "<style scoped>\n",
       "    .dataframe tbody tr th:only-of-type {\n",
       "        vertical-align: middle;\n",
       "    }\n",
       "\n",
       "    .dataframe tbody tr th {\n",
       "        vertical-align: top;\n",
       "    }\n",
       "\n",
       "    .dataframe thead th {\n",
       "        text-align: right;\n",
       "    }\n",
       "</style>\n",
       "<table border=\"1\" class=\"dataframe\">\n",
       "  <thead>\n",
       "    <tr style=\"text-align: right;\">\n",
       "      <th></th>\n",
       "      <th>wind_speed</th>\n",
       "      <th>wind_direction</th>\n",
       "    </tr>\n",
       "  </thead>\n",
       "  <tbody>\n",
       "    <tr>\n",
       "      <td>count</td>\n",
       "      <td>8736.000000</td>\n",
       "      <td>8736.000000</td>\n",
       "    </tr>\n",
       "    <tr>\n",
       "      <td>mean</td>\n",
       "      <td>4.269835</td>\n",
       "      <td>198.937346</td>\n",
       "    </tr>\n",
       "    <tr>\n",
       "      <td>std</td>\n",
       "      <td>2.450847</td>\n",
       "      <td>88.811740</td>\n",
       "    </tr>\n",
       "    <tr>\n",
       "      <td>min</td>\n",
       "      <td>0.081000</td>\n",
       "      <td>20.225667</td>\n",
       "    </tr>\n",
       "    <tr>\n",
       "      <td>25%</td>\n",
       "      <td>2.433233</td>\n",
       "      <td>112.515000</td>\n",
       "    </tr>\n",
       "    <tr>\n",
       "      <td>50%</td>\n",
       "      <td>3.815633</td>\n",
       "      <td>225.215033</td>\n",
       "    </tr>\n",
       "    <tr>\n",
       "      <td>75%</td>\n",
       "      <td>5.617450</td>\n",
       "      <td>278.615000</td>\n",
       "    </tr>\n",
       "    <tr>\n",
       "      <td>max</td>\n",
       "      <td>15.777333</td>\n",
       "      <td>343.893333</td>\n",
       "    </tr>\n",
       "  </tbody>\n",
       "</table>\n",
       "</div>"
      ],
      "text/plain": [
       "        wind_speed  wind_direction\n",
       "count  8736.000000     8736.000000\n",
       "mean      4.269835      198.937346\n",
       "std       2.450847       88.811740\n",
       "min       0.081000       20.225667\n",
       "25%       2.433233      112.515000\n",
       "50%       3.815633      225.215033\n",
       "75%       5.617450      278.615000\n",
       "max      15.777333      343.893333"
      ]
     },
     "execution_count": 145,
     "metadata": {},
     "output_type": "execute_result"
    }
   ],
   "source": [
    "wind.describe()"
   ]
  },
  {
   "cell_type": "code",
   "execution_count": 146,
   "metadata": {},
   "outputs": [
    {
     "data": {
      "text/plain": [
       "timestamp         0\n",
       "wind_speed        0\n",
       "wind_direction    0\n",
       "dtype: int64"
      ]
     },
     "execution_count": 146,
     "metadata": {},
     "output_type": "execute_result"
    }
   ],
   "source": [
    "wind.isnull().sum()"
   ]
  },
  {
   "cell_type": "code",
   "execution_count": 147,
   "metadata": {},
   "outputs": [],
   "source": [
    "wind['timestamp']=pd.to_datetime(wind.timestamp)"
   ]
  },
  {
   "cell_type": "code",
   "execution_count": 148,
   "metadata": {
    "colab": {
     "base_uri": "https://localhost:8080/",
     "height": 740
    },
    "id": "I-o_ZqvdzGAn",
    "outputId": "049a6174-e985-4783-d0cb-11499d9f28c9"
   },
   "outputs": [
    {
     "name": "stdout",
     "output_type": "stream",
     "text": [
      "<class 'pandas.core.frame.DataFrame'>\n",
      "Int64Index: 14259 entries, 0 to 14258\n",
      "Data columns (total 9 columns):\n",
      "timestamp         14259 non-null datetime64[ns]\n",
      "precipitation     14259 non-null float64\n",
      "humidity          14259 non-null float64\n",
      "radiation         14259 non-null float64\n",
      "sunshine          14259 non-null float64\n",
      "pressure          14259 non-null float64\n",
      "temperature       14259 non-null float64\n",
      "wind_speed        14259 non-null float64\n",
      "wind_direction    14259 non-null float64\n",
      "dtypes: datetime64[ns](1), float64(8)\n",
      "memory usage: 1.1 MB\n"
     ]
    }
   ],
   "source": [
    "weather_data =pd.merge(weather,wind,on='timestamp')\n",
    "weather_data.info()"
   ]
  },
  {
   "cell_type": "code",
   "execution_count": 149,
   "metadata": {},
   "outputs": [
    {
     "data": {
      "text/html": [
       "<div>\n",
       "<style scoped>\n",
       "    .dataframe tbody tr th:only-of-type {\n",
       "        vertical-align: middle;\n",
       "    }\n",
       "\n",
       "    .dataframe tbody tr th {\n",
       "        vertical-align: top;\n",
       "    }\n",
       "\n",
       "    .dataframe thead th {\n",
       "        text-align: right;\n",
       "    }\n",
       "</style>\n",
       "<table border=\"1\" class=\"dataframe\">\n",
       "  <thead>\n",
       "    <tr style=\"text-align: right;\">\n",
       "      <th></th>\n",
       "      <th>timestamp</th>\n",
       "      <th>precipitation</th>\n",
       "      <th>humidity</th>\n",
       "      <th>radiation</th>\n",
       "      <th>sunshine</th>\n",
       "      <th>pressure</th>\n",
       "      <th>temperature</th>\n",
       "      <th>wind_speed</th>\n",
       "      <th>wind_direction</th>\n",
       "    </tr>\n",
       "  </thead>\n",
       "  <tbody>\n",
       "    <tr>\n",
       "      <td>0</td>\n",
       "      <td>2018-09-01 00:00:00</td>\n",
       "      <td>0.0</td>\n",
       "      <td>95.6</td>\n",
       "      <td>0.0</td>\n",
       "      <td>599.2</td>\n",
       "      <td>1016.3</td>\n",
       "      <td>16.1</td>\n",
       "      <td>4.443333</td>\n",
       "      <td>68.685333</td>\n",
       "    </tr>\n",
       "    <tr>\n",
       "      <td>1</td>\n",
       "      <td>2018-09-01 00:15:00</td>\n",
       "      <td>0.0</td>\n",
       "      <td>95.5</td>\n",
       "      <td>0.0</td>\n",
       "      <td>600.0</td>\n",
       "      <td>1016.4</td>\n",
       "      <td>16.1</td>\n",
       "      <td>4.122467</td>\n",
       "      <td>71.740667</td>\n",
       "    </tr>\n",
       "    <tr>\n",
       "      <td>3</td>\n",
       "      <td>2018-09-01 00:30:00</td>\n",
       "      <td>0.0</td>\n",
       "      <td>95.1</td>\n",
       "      <td>0.0</td>\n",
       "      <td>600.0</td>\n",
       "      <td>1016.4</td>\n",
       "      <td>16.1</td>\n",
       "      <td>3.427533</td>\n",
       "      <td>67.434667</td>\n",
       "    </tr>\n",
       "    <tr>\n",
       "      <td>5</td>\n",
       "      <td>2018-09-01 00:45:00</td>\n",
       "      <td>0.0</td>\n",
       "      <td>95.3</td>\n",
       "      <td>0.0</td>\n",
       "      <td>600.0</td>\n",
       "      <td>1016.3</td>\n",
       "      <td>16.1</td>\n",
       "      <td>3.437867</td>\n",
       "      <td>68.142667</td>\n",
       "    </tr>\n",
       "    <tr>\n",
       "      <td>7</td>\n",
       "      <td>2018-09-01 01:00:00</td>\n",
       "      <td>0.0</td>\n",
       "      <td>94.8</td>\n",
       "      <td>0.0</td>\n",
       "      <td>599.0</td>\n",
       "      <td>1016.0</td>\n",
       "      <td>16.0</td>\n",
       "      <td>3.688533</td>\n",
       "      <td>69.695333</td>\n",
       "    </tr>\n",
       "    <tr>\n",
       "      <td>...</td>\n",
       "      <td>...</td>\n",
       "      <td>...</td>\n",
       "      <td>...</td>\n",
       "      <td>...</td>\n",
       "      <td>...</td>\n",
       "      <td>...</td>\n",
       "      <td>...</td>\n",
       "      <td>...</td>\n",
       "      <td>...</td>\n",
       "    </tr>\n",
       "    <tr>\n",
       "      <td>14250</td>\n",
       "      <td>2018-11-30 22:00:00</td>\n",
       "      <td>0.0</td>\n",
       "      <td>90.3</td>\n",
       "      <td>0.0</td>\n",
       "      <td>0.0</td>\n",
       "      <td>1020.6</td>\n",
       "      <td>-0.1</td>\n",
       "      <td>1.549467</td>\n",
       "      <td>276.306667</td>\n",
       "    </tr>\n",
       "    <tr>\n",
       "      <td>14252</td>\n",
       "      <td>2018-11-30 22:15:00</td>\n",
       "      <td>0.0</td>\n",
       "      <td>91.6</td>\n",
       "      <td>0.0</td>\n",
       "      <td>0.0</td>\n",
       "      <td>1020.6</td>\n",
       "      <td>-0.4</td>\n",
       "      <td>1.605000</td>\n",
       "      <td>266.533333</td>\n",
       "    </tr>\n",
       "    <tr>\n",
       "      <td>14254</td>\n",
       "      <td>2018-11-30 22:30:00</td>\n",
       "      <td>0.0</td>\n",
       "      <td>92.4</td>\n",
       "      <td>0.0</td>\n",
       "      <td>0.0</td>\n",
       "      <td>1020.7</td>\n",
       "      <td>-0.5</td>\n",
       "      <td>1.837000</td>\n",
       "      <td>268.946667</td>\n",
       "    </tr>\n",
       "    <tr>\n",
       "      <td>14256</td>\n",
       "      <td>2018-11-30 22:45:00</td>\n",
       "      <td>0.0</td>\n",
       "      <td>92.8</td>\n",
       "      <td>0.0</td>\n",
       "      <td>0.0</td>\n",
       "      <td>1020.8</td>\n",
       "      <td>-0.7</td>\n",
       "      <td>1.710600</td>\n",
       "      <td>274.213333</td>\n",
       "    </tr>\n",
       "    <tr>\n",
       "      <td>14258</td>\n",
       "      <td>2018-11-30 23:00:00</td>\n",
       "      <td>0.0</td>\n",
       "      <td>92.4</td>\n",
       "      <td>0.0</td>\n",
       "      <td>0.0</td>\n",
       "      <td>1021.0</td>\n",
       "      <td>-0.7</td>\n",
       "      <td>1.687400</td>\n",
       "      <td>272.740000</td>\n",
       "    </tr>\n",
       "  </tbody>\n",
       "</table>\n",
       "<p>6975 rows × 9 columns</p>\n",
       "</div>"
      ],
      "text/plain": [
       "                timestamp  precipitation  humidity  radiation  sunshine  \\\n",
       "0     2018-09-01 00:00:00            0.0      95.6        0.0     599.2   \n",
       "1     2018-09-01 00:15:00            0.0      95.5        0.0     600.0   \n",
       "3     2018-09-01 00:30:00            0.0      95.1        0.0     600.0   \n",
       "5     2018-09-01 00:45:00            0.0      95.3        0.0     600.0   \n",
       "7     2018-09-01 01:00:00            0.0      94.8        0.0     599.0   \n",
       "...                   ...            ...       ...        ...       ...   \n",
       "14250 2018-11-30 22:00:00            0.0      90.3        0.0       0.0   \n",
       "14252 2018-11-30 22:15:00            0.0      91.6        0.0       0.0   \n",
       "14254 2018-11-30 22:30:00            0.0      92.4        0.0       0.0   \n",
       "14256 2018-11-30 22:45:00            0.0      92.8        0.0       0.0   \n",
       "14258 2018-11-30 23:00:00            0.0      92.4        0.0       0.0   \n",
       "\n",
       "       pressure  temperature  wind_speed  wind_direction  \n",
       "0        1016.3         16.1    4.443333       68.685333  \n",
       "1        1016.4         16.1    4.122467       71.740667  \n",
       "3        1016.4         16.1    3.427533       67.434667  \n",
       "5        1016.3         16.1    3.437867       68.142667  \n",
       "7        1016.0         16.0    3.688533       69.695333  \n",
       "...         ...          ...         ...             ...  \n",
       "14250    1020.6         -0.1    1.549467      276.306667  \n",
       "14252    1020.6         -0.4    1.605000      266.533333  \n",
       "14254    1020.7         -0.5    1.837000      268.946667  \n",
       "14256    1020.8         -0.7    1.710600      274.213333  \n",
       "14258    1021.0         -0.7    1.687400      272.740000  \n",
       "\n",
       "[6975 rows x 9 columns]"
      ]
     },
     "execution_count": 149,
     "metadata": {},
     "output_type": "execute_result"
    }
   ],
   "source": [
    "from pandas import DataFrame\n",
    "weatherdata = pd.DataFrame.drop_duplicates(weather_data)\n",
    "weatherdata"
   ]
  },
  {
   "cell_type": "code",
   "execution_count": 150,
   "metadata": {
    "id": "perzv6IY1WIv"
   },
   "outputs": [
    {
     "data": {
      "text/plain": [
       "<matplotlib.axes._subplots.AxesSubplot at 0x1756e767a88>"
      ]
     },
     "execution_count": 150,
     "metadata": {},
     "output_type": "execute_result"
    },
    {
     "data": {
      "image/png": "[encoded data removed]",
      "text/plain": [
       "<Figure size 864x432 with 2 Axes>"
      ]
     },
     "metadata": {
      "needs_background": "light"
     },
     "output_type": "display_data"
    }
   ],
   "source": [
    "import seaborn as sns\n",
    "colleration_matrix = weatherdata.corr().round(2)\n",
    "fig, ax = plt.subplots(figsize = (12,6))\n",
    "sns.heatmap(data=colleration_matrix, annot =True)"
   ]
  },
  {
   "cell_type": "code",
   "execution_count": 151,
   "metadata": {},
   "outputs": [
    {
     "data": {
      "text/html": [
       "<div>\n",
       "<style scoped>\n",
       "    .dataframe tbody tr th:only-of-type {\n",
       "        vertical-align: middle;\n",
       "    }\n",
       "\n",
       "    .dataframe tbody tr th {\n",
       "        vertical-align: top;\n",
       "    }\n",
       "\n",
       "    .dataframe thead th {\n",
       "        text-align: right;\n",
       "    }\n",
       "</style>\n",
       "<table border=\"1\" class=\"dataframe\">\n",
       "  <thead>\n",
       "    <tr style=\"text-align: right;\">\n",
       "      <th></th>\n",
       "      <th>precipitation</th>\n",
       "      <th>humidity</th>\n",
       "      <th>radiation</th>\n",
       "      <th>sunshine</th>\n",
       "      <th>pressure</th>\n",
       "      <th>temperature</th>\n",
       "      <th>wind_speed</th>\n",
       "      <th>wind_direction</th>\n",
       "    </tr>\n",
       "  </thead>\n",
       "  <tbody>\n",
       "    <tr>\n",
       "      <td>count</td>\n",
       "      <td>6975.0</td>\n",
       "      <td>6975.000000</td>\n",
       "      <td>6975.000000</td>\n",
       "      <td>6975.000000</td>\n",
       "      <td>6975.000000</td>\n",
       "      <td>6975.000000</td>\n",
       "      <td>6975.000000</td>\n",
       "      <td>6975.000000</td>\n",
       "    </tr>\n",
       "    <tr>\n",
       "      <td>mean</td>\n",
       "      <td>0.0</td>\n",
       "      <td>76.678982</td>\n",
       "      <td>54.052975</td>\n",
       "      <td>133.029233</td>\n",
       "      <td>1019.891814</td>\n",
       "      <td>13.151756</td>\n",
       "      <td>4.237548</td>\n",
       "      <td>201.537948</td>\n",
       "    </tr>\n",
       "    <tr>\n",
       "      <td>std</td>\n",
       "      <td>0.0</td>\n",
       "      <td>18.669771</td>\n",
       "      <td>102.106684</td>\n",
       "      <td>243.674424</td>\n",
       "      <td>5.325235</td>\n",
       "      <td>6.228181</td>\n",
       "      <td>2.327824</td>\n",
       "      <td>90.389666</td>\n",
       "    </tr>\n",
       "    <tr>\n",
       "      <td>min</td>\n",
       "      <td>0.0</td>\n",
       "      <td>9.100000</td>\n",
       "      <td>0.000000</td>\n",
       "      <td>0.000000</td>\n",
       "      <td>1005.100000</td>\n",
       "      <td>-1.800000</td>\n",
       "      <td>0.085533</td>\n",
       "      <td>20.225667</td>\n",
       "    </tr>\n",
       "    <tr>\n",
       "      <td>25%</td>\n",
       "      <td>0.0</td>\n",
       "      <td>64.300000</td>\n",
       "      <td>0.000000</td>\n",
       "      <td>0.000000</td>\n",
       "      <td>1016.500000</td>\n",
       "      <td>9.100000</td>\n",
       "      <td>2.509767</td>\n",
       "      <td>112.776667</td>\n",
       "    </tr>\n",
       "    <tr>\n",
       "      <td>50%</td>\n",
       "      <td>0.0</td>\n",
       "      <td>81.400000</td>\n",
       "      <td>0.000000</td>\n",
       "      <td>0.000000</td>\n",
       "      <td>1020.100000</td>\n",
       "      <td>12.900000</td>\n",
       "      <td>3.816667</td>\n",
       "      <td>234.293333</td>\n",
       "    </tr>\n",
       "    <tr>\n",
       "      <td>75%</td>\n",
       "      <td>0.0</td>\n",
       "      <td>91.900000</td>\n",
       "      <td>52.750000</td>\n",
       "      <td>0.000000</td>\n",
       "      <td>1023.500000</td>\n",
       "      <td>17.600000</td>\n",
       "      <td>5.519533</td>\n",
       "      <td>281.532333</td>\n",
       "    </tr>\n",
       "    <tr>\n",
       "      <td>max</td>\n",
       "      <td>0.0</td>\n",
       "      <td>100.100000</td>\n",
       "      <td>403.300000</td>\n",
       "      <td>600.000000</td>\n",
       "      <td>1034.200000</td>\n",
       "      <td>30.000000</td>\n",
       "      <td>14.894667</td>\n",
       "      <td>343.893333</td>\n",
       "    </tr>\n",
       "  </tbody>\n",
       "</table>\n",
       "</div>"
      ],
      "text/plain": [
       "       precipitation     humidity    radiation     sunshine     pressure  \\\n",
       "count         6975.0  6975.000000  6975.000000  6975.000000  6975.000000   \n",
       "mean             0.0    76.678982    54.052975   133.029233  1019.891814   \n",
       "std              0.0    18.669771   102.106684   243.674424     5.325235   \n",
       "min              0.0     9.100000     0.000000     0.000000  1005.100000   \n",
       "25%              0.0    64.300000     0.000000     0.000000  1016.500000   \n",
       "50%              0.0    81.400000     0.000000     0.000000  1020.100000   \n",
       "75%              0.0    91.900000    52.750000     0.000000  1023.500000   \n",
       "max              0.0   100.100000   403.300000   600.000000  1034.200000   \n",
       "\n",
       "       temperature   wind_speed  wind_direction  \n",
       "count  6975.000000  6975.000000     6975.000000  \n",
       "mean     13.151756     4.237548      201.537948  \n",
       "std       6.228181     2.327824       90.389666  \n",
       "min      -1.800000     0.085533       20.225667  \n",
       "25%       9.100000     2.509767      112.776667  \n",
       "50%      12.900000     3.816667      234.293333  \n",
       "75%      17.600000     5.519533      281.532333  \n",
       "max      30.000000    14.894667      343.893333  "
      ]
     },
     "execution_count": 151,
     "metadata": {},
     "output_type": "execute_result"
    }
   ],
   "source": [
    "weatherdata.describe()"
   ]
  },
  {
   "cell_type": "code",
   "execution_count": 152,
   "metadata": {},
   "outputs": [
    {
     "data": {
      "image/png": "[encoded data removed]",
      "text/plain": [
       "<Figure size 720x360 with 1 Axes>"
      ]
     },
     "metadata": {
      "needs_background": "light"
     },
     "output_type": "display_data"
    }
   ],
   "source": [
    "fig, ax = plt.subplots(figsize=(10,5))\n",
    "ax.scatter(weatherdata['sunshine'] , weatherdata['radiation'])\n",
    "ax.set_xlabel('sunshine')\n",
    "ax.set_ylabel('radiation')\n",
    "plt.show()"
   ]
  },
  {
   "cell_type": "code",
   "execution_count": 153,
   "metadata": {},
   "outputs": [
    {
     "data": {
      "image/png": "[encoded data removed]",
      "text/plain": [
       "<Figure size 720x360 with 1 Axes>"
      ]
     },
     "metadata": {
      "needs_background": "light"
     },
     "output_type": "display_data"
    }
   ],
   "source": [
    "fig, ax = plt.subplots(figsize=(10,5))\n",
    "ax.scatter(weatherdata['sunshine'] , weatherdata['temperature'])\n",
    "ax.set_xlabel('sunshine')\n",
    "ax.set_ylabel('temperature')\n",
    "plt.show()"
   ]
  },
  {
   "cell_type": "code",
   "execution_count": 154,
   "metadata": {},
   "outputs": [
    {
     "data": {
      "image/png": "[encoded data removed]",
      "text/plain": [
       "<Figure size 720x360 with 1 Axes>"
      ]
     },
     "metadata": {
      "needs_background": "light"
     },
     "output_type": "display_data"
    }
   ],
   "source": [
    "fig, ax = plt.subplots(figsize=(10,5))\n",
    "ax.scatter(weatherdata['wind_direction'] , weatherdata['wind_speed'])\n",
    "ax.set_xlabel('wind_direction')\n",
    "ax.set_ylabel('wind_speed')\n",
    "plt.show()"
   ]
  },
  {
   "cell_type": "code",
   "execution_count": 155,
   "metadata": {},
   "outputs": [
    {
     "data": {
      "image/png": "[encoded data removed]",
      "text/plain": [
       "<Figure size 1080x432 with 8 Axes>"
      ]
     },
     "metadata": {
      "needs_background": "light"
     },
     "output_type": "display_data"
    }
   ],
   "source": [
    "#freqency distrbution\n",
    "values= ['precipitation','humidity','radiation','sunshine','pressure','temperature','wind_speed','wind_direction']\n",
    "weatherdata[values].hist(bins=15,  figsize=(15,6),layout=(2,4));"
   ]
  },
  {
   "cell_type": "code",
   "execution_count": 157,
   "metadata": {},
   "outputs": [],
   "source": [
    "weatherdata.to_csv('New data.csv')"
   ]
  },
  {
   "cell_type": "code",
   "execution_count": null,
   "metadata": {},
   "outputs": [],
   "source": []
  }
 ],
 "metadata": {
  "colab": {
   "collapsed_sections": [],
   "name": "EDA.ipynb",
   "provenance": []
  },
  "kernelspec": {
   "display_name": "Python 3",
   "language": "python",
   "name": "python3"
  },
  "language_info": {
   "codemirror_mode": {
    "name": "ipython",
    "version": 3
   },
   "file_extension": ".py",
   "mimetype": "text/x-python",
   "name": "python",
   "nbconvert_exporter": "python",
   "pygments_lexer": "ipython3",
   "version": "3.7.4"
  }
 },
 "nbformat": 4,
 "nbformat_minor": 1
}
